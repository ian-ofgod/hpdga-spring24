{
  "cells": [
    {
      "cell_type": "markdown",
      "metadata": {
        "id": "view-in-github",
        "colab_type": "text"
      },
      "source": [
        "<a href=\"https://colab.research.google.com/github/ian-ofgod/hpdga-spring24/blob/master/cuda_colab.ipynb\" target=\"_parent\"><img src=\"https://colab.research.google.com/assets/colab-badge.svg\" alt=\"Open In Colab\"/></a>"
      ]
    },
    {
      "cell_type": "markdown",
      "metadata": {
        "id": "u44dEsPfQ2IE"
      },
      "source": [
        "Steps to profile your application:\n",
        "*   Compile it with nvcc\n",
        "*   Profile it with nsys profile\n",
        "*   Open the output with Nsight System\n",
        "\n",
        "Install Nsight System: https://developer.nvidia.com/nsight-systems\n"
      ]
    },
    {
      "cell_type": "code",
      "execution_count": null,
      "metadata": {
        "colab": {
          "background_save": true,
          "base_uri": "https://localhost:8080/"
        },
        "id": "2MirQybATUKy",
        "outputId": "7e6f1acb-635d-4af4-836a-12298f41e740"
      },
      "outputs": [
        {
          "name": "stdout",
          "output_type": "stream",
          "text": [
            "++ mktemp -d\n",
            "+ cd /tmp/tmp.CmrnVRx86D\n",
            "+ wget https://developer.download.nvidia.com/compute/cuda/12.1.0/local_installers/cuda_12.1.0_530.30.02_linux.run\n",
            "--2024-04-28 00:24:00--  https://developer.download.nvidia.com/compute/cuda/12.1.0/local_installers/cuda_12.1.0_530.30.02_linux.run\n",
            "Resolving developer.download.nvidia.com (developer.download.nvidia.com)... 152.195.19.142\n",
            "Connecting to developer.download.nvidia.com (developer.download.nvidia.com)|152.195.19.142|:443... connected.\n",
            "HTTP request sent, awaiting response... 200 OK\n",
            "Length: 4245586997 (4.0G) [application/octet-stream]\n",
            "Saving to: ‘cuda_12.1.0_530.30.02_linux.run’\n",
            "\n",
            "cuda_12.1.0_530.30. 100%[===================>]   3.95G   213MB/s    in 22s     \n",
            "\n",
            "2024-04-28 00:24:21 (187 MB/s) - ‘cuda_12.1.0_530.30.02_linux.run’ saved [4245586997/4245586997]\n",
            "\n",
            "+ sudo sh cuda_12.1.0_530.30.02_linux.run --silent --toolkit\n",
            "+ rm cuda_12.1.0_530.30.02_linux.run\n"
          ]
        }
      ],
      "source": [
        "# Download and install CUDA 12.1\n",
        "! set -x \\\n",
        "&& cd $(mktemp -d) \\\n",
        "&& wget https://developer.download.nvidia.com/compute/cuda/12.1.0/local_installers/cuda_12.1.0_530.30.02_linux.run \\\n",
        "&& sudo sh cuda_12.1.0_530.30.02_linux.run --silent --toolkit \\\n",
        "&& rm cuda_12.1.0_530.30.02_linux.run"
      ]
    },
    {
      "cell_type": "code",
      "execution_count": null,
      "metadata": {
        "id": "NcV9CurKTXI7"
      },
      "outputs": [],
      "source": [
        "import os\n",
        "\n",
        "# Add CUDA installation to PATH\n",
        "os.environ['PATH'] = os.environ['PATH'] + ':/usr/local/cuda/bin/'"
      ]
    },
    {
      "cell_type": "code",
      "execution_count": null,
      "metadata": {
        "id": "i68SAUyqaf0J"
      },
      "outputs": [],
      "source": [
        "# Compile your program\n",
        "!nvcc -o add add.cu"
      ]
    },
    {
      "cell_type": "code",
      "execution_count": null,
      "metadata": {
        "colab": {
          "base_uri": "https://localhost:8080/"
        },
        "id": "iTz5ihcF6t6z",
        "outputId": "f6c2b6dc-7c0b-4ba0-a3f5-a9598f2cc855"
      },
      "outputs": [
        {
          "name": "stdout",
          "output_type": "stream",
          "text": [
            "bin2c\t\t   cuda-gdb\t   cuobjdump  nvcc\t\t   nvlink\t     nvprune\n",
            "compute-sanitizer  cuda-gdbserver  fatbinary  __nvcc_device_query  nv-nsight-cu      ptxas\n",
            "crt\t\t   cuda-memcheck   ncu\t      nvcc.profile\t   nv-nsight-cu-cli\n",
            "cudafe++\t   cu++filt\t   ncu-ui     nvdisasm\t\t   nvprof\n"
          ]
        }
      ],
      "source": [
        "# Profile your program obtaining the output to pass to NSight System\n",
        "\n",
        "!nsys profile add"
      ]
    }
  ],
  "metadata": {
    "accelerator": "GPU",
    "colab": {
      "provenance": [],
      "include_colab_link": true
    },
    "gpuClass": "standard",
    "kernelspec": {
      "display_name": "Python 3",
      "name": "python3"
    },
    "language_info": {
      "name": "python"
    }
  },
  "nbformat": 4,
  "nbformat_minor": 0
}